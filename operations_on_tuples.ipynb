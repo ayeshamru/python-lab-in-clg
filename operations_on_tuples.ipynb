{
 "cells": [
  {
   "cell_type": "markdown",
   "metadata": {},
   "source": [
    "# lab4(tuple)\n"
   ]
  },
  {
   "cell_type": "code",
   "execution_count": 5,
   "metadata": {},
   "outputs": [
    {
     "name": "stdout",
     "output_type": "stream",
     "text": [
      "(1, 2, 3)\n"
     ]
    }
   ],
   "source": [
    "#Que1: create a tuple\n",
    "tuple1=(1,2,3)\n",
    "print(tuple1)\n"
   ]
  },
  {
   "cell_type": "code",
   "execution_count": 6,
   "metadata": {},
   "outputs": [
    {
     "data": {
      "text/plain": [
       "(1, 'a', 'ayesha')"
      ]
     },
     "execution_count": 6,
     "metadata": {},
     "output_type": "execute_result"
    }
   ],
   "source": [
    "#Que2: create a tuple with different datatypes\n",
    "tuple2=(1,\"a\",\"ayesha\")\n",
    "tuple2"
   ]
  },
  {
   "cell_type": "code",
   "execution_count": 7,
   "metadata": {},
   "outputs": [
    {
     "name": "stdout",
     "output_type": "stream",
     "text": [
      "2\n"
     ]
    }
   ],
   "source": [
    "#Que3: create numbers’ tuple & print 1 item\n",
    "tuple3=(1,2,3,4)\n",
    "print(tuple3[1])"
   ]
  },
  {
   "cell_type": "code",
   "execution_count": 8,
   "metadata": {},
   "outputs": [
    {
     "name": "stdout",
     "output_type": "stream",
     "text": [
      "Tuple before unpacking:  (1, 2, 3, 4)\n",
      "tuple after unpacking:  1 2 [3, 4]\n"
     ]
    }
   ],
   "source": [
    "#Que4: unpack a tuple in several variables\n",
    "print('Tuple before unpacking: ', tuple3)\n",
    "v1, v2, *v3 = tuple3\n",
    "print('tuple after unpacking: ', v1, v2, v3)"
   ]
  },
  {
   "cell_type": "code",
   "execution_count": 11,
   "metadata": {},
   "outputs": [
    {
     "name": "stdout",
     "output_type": "stream",
     "text": [
      "modified tuple:  (1, 2, 3, 5)\n"
     ]
    }
   ],
   "source": [
    "#Que5: Add an item in a tuple\n",
    "tuple1=(1,2,3)\n",
    "tuple1=tuple1+(5,)\n",
    "print('modified tuple: ',tuple1)"
   ]
  },
  {
   "cell_type": "code",
   "execution_count": 13,
   "metadata": {},
   "outputs": [
    {
     "data": {
      "text/plain": [
       "'hello friends'"
      ]
     },
     "execution_count": 13,
     "metadata": {},
     "output_type": "execute_result"
    }
   ],
   "source": [
    "#Que6: Convert tuple into a string\n",
    "tuple4=(\"hello\", \"friends\")\n",
    "str2=\" \"\n",
    "str2=str2.join(tuple4)\n",
    "str2"
   ]
  },
  {
   "cell_type": "code",
   "execution_count": 14,
   "metadata": {},
   "outputs": [
    {
     "name": "stdout",
     "output_type": "stream",
     "text": [
      "5 7\n"
     ]
    }
   ],
   "source": [
    "#Que7 program to get the 4th element and 4th element from last of the tuple\n",
    "tuple5=(1,2,3,4,5,6,7,8,9,10)\n",
    "print(tuple5[4],tuple5[-4])"
   ]
  },
  {
   "cell_type": "code",
   "execution_count": 2,
   "metadata": {},
   "outputs": [
    {
     "name": "stdout",
     "output_type": "stream",
     "text": [
      "(1, 2, 3)\n",
      "(1, 2, 3)\n"
     ]
    }
   ],
   "source": [
    "#Que8 program to create the colon of a tuple\n",
    "from copy import deepcopy\n",
    "tuplex = (1, 2 , 3) \n",
    "print(tuplex)\n",
    "tuplex_colon = deepcopy(tuplex)\n",
    "print(tuplex_colon)"
   ]
  },
  {
   "cell_type": "code",
   "execution_count": 16,
   "metadata": {},
   "outputs": [
    {
     "data": {
      "text/plain": [
       "3"
      ]
     },
     "execution_count": 16,
     "metadata": {},
     "output_type": "execute_result"
    }
   ],
   "source": [
    "#Que9: count repetitive elements of a tuple\n",
    "tuple6=(1,1,1,2,3,4)\n",
    "tuple6.count(1)"
   ]
  },
  {
   "cell_type": "code",
   "execution_count": 17,
   "metadata": {},
   "outputs": [
    {
     "name": "stdout",
     "output_type": "stream",
     "text": [
      "Present\n"
     ]
    }
   ],
   "source": [
    "#Que10: Whether an element exist or not\n",
    "if 4 in tuple6:\n",
    "    print(\"Present\")\n",
    "else:\n",
    "    print(\"Not present\")"
   ]
  },
  {
   "cell_type": "code",
   "execution_count": 18,
   "metadata": {},
   "outputs": [
    {
     "data": {
      "text/plain": [
       "(1, 2, 3, 4)"
      ]
     },
     "execution_count": 18,
     "metadata": {},
     "output_type": "execute_result"
    }
   ],
   "source": [
    "#Que11: convert list to a tuple\n",
    "l2=[1,2,3,4]\n",
    "tuple7=tuple(l2)\n",
    "tuple7"
   ]
  },
  {
   "cell_type": "code",
   "execution_count": 4,
   "metadata": {},
   "outputs": [
    {
     "name": "stdout",
     "output_type": "stream",
     "text": [
      "('a', 'b', 'c', 'd', 'e', 'f', 'g')\n",
      "('a', 'b', 'c', 'e', 'f', 'g')\n"
     ]
    }
   ],
   "source": [
    "#Que12: program to remove an item from a tuple\n",
    "tuple8=('a','b','c','d','e','f','g')\n",
    "print(tuple8)\n",
    "tuple8 = tuple8[:3] + tuple8[4:]\n",
    "print(tuple8)"
   ]
  },
  {
   "cell_type": "code",
   "execution_count": 10,
   "metadata": {},
   "outputs": [
    {
     "name": "stdout",
     "output_type": "stream",
     "text": [
      "('ghi', 'jkl')\n"
     ]
    }
   ],
   "source": [
    "#Que13: program to slice a tuple\n",
    "tuple9 = ('abc','def','ghi','jkl')\n",
    "obj = slice(2,4)\n",
    "print(tuple9[obj])"
   ]
  },
  {
   "cell_type": "code",
   "execution_count": 15,
   "metadata": {},
   "outputs": [
    {
     "ename": "IndentationError",
     "evalue": "expected an indented block (<ipython-input-15-712288fadffa>, line 6)",
     "output_type": "error",
     "traceback": [
      "\u001b[1;36m  File \u001b[1;32m\"<ipython-input-15-712288fadffa>\"\u001b[1;36m, line \u001b[1;32m6\u001b[0m\n\u001b[1;33m    if tuple10[i]==element:\u001b[0m\n\u001b[1;37m     ^\u001b[0m\n\u001b[1;31mIndentationError\u001b[0m\u001b[1;31m:\u001b[0m expected an indented block\n"
     ]
    }
   ],
   "source": [
    "#Que13: program to find index of element in a tuple \n",
    "tuple10 = (2,5,8,4,6)\n",
    "print(tuple10)\n",
    "element = int(input(\"enter element whose index has to be found\"))\n",
    "for i in tuple10:\n",
    "    if tuple10[i]==element:\n",
    "    print(\"element\",element,\"has index\",i-1)\n",
    "    else:\n",
    "        continue:\n"
   ]
  },
  {
   "cell_type": "code",
   "execution_count": 24,
   "metadata": {},
   "outputs": [
    {
     "name": "stdout",
     "output_type": "stream",
     "text": [
      "(1, 4, 8, 3, 9)\n",
      "5\n"
     ]
    }
   ],
   "source": [
    "#Que14:program to find length of a tuple\n",
    "tuple11 = (1,4,8,3,9)\n",
    "print(tuple11)\n",
    "print(tuple11.__len__())\n"
   ]
  }
 ],
 "metadata": {
  "kernelspec": {
   "display_name": "Python 3",
   "language": "python",
   "name": "python3"
  },
  "language_info": {
   "codemirror_mode": {
    "name": "ipython",
    "version": 3
   },
   "file_extension": ".py",
   "mimetype": "text/x-python",
   "name": "python",
   "nbconvert_exporter": "python",
   "pygments_lexer": "ipython3",
   "version": "3.7.4"
  }
 },
 "nbformat": 4,
 "nbformat_minor": 2
}
