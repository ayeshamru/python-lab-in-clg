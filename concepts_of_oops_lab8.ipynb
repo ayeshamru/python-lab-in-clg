{
 "cells": [
  {
   "cell_type": "markdown",
   "metadata": {},
   "source": [
    "### PYTHON CLASSES (CONCEPTS OF OOPS)\n"
   ]
  },
  {
   "cell_type": "markdown",
   "metadata": {},
   "source": [
    "### 1. Write a Python program that create a class tringle and define two methods, create_triangle() and print_sides()."
   ]
  },
  {
   "cell_type": "code",
   "execution_count": 4,
   "metadata": {},
   "outputs": [
    {
     "name": "stdout",
     "output_type": "stream",
     "text": [
      "The sides of the triangle are:  5 2 3\n"
     ]
    }
   ],
   "source": [
    "class triangle:\n",
    "    def create_triangle(self, side1, side2, side3):\n",
    "        self.side1=side1\n",
    "        self.side2=side2\n",
    "        self.side3=side3\n",
    "    def print_sides(self):\n",
    "        print(\"The sides of the triangle are: \", self.side1, self.side2, self.side3)\n",
    "triangle1= triangle()\n",
    "triangle1.create_triangle(5,2,3)\n",
    "triangle1.print_sides()"
   ]
  },
  {
   "cell_type": "markdown",
   "metadata": {},
   "source": [
    "### 2. Write a Python program to create a class with two methods inputstr() and printstr()."
   ]
  },
  {
   "cell_type": "code",
   "execution_count": 6,
   "metadata": {},
   "outputs": [
    {
     "name": "stdout",
     "output_type": "stream",
     "text": [
      "String entered is:  Hello\n"
     ]
    }
   ],
   "source": [
    "class StringPrint:\n",
    "    def inputstr(self, str1):\n",
    "        self.str1= str1\n",
    "    def printstr(self):\n",
    "        print(\"String entered is: \", self.str1)\n",
    "a=StringPrint()\n",
    "a.inputstr(\"Hello\")\n",
    "a.printstr()"
   ]
  },
  {
   "cell_type": "markdown",
   "metadata": {},
   "source": [
    "### 3. Write a Python program to create a class Rectangle that takes the parameter length and width. The class should also contain a method for computing its perimeter."
   ]
  },
  {
   "cell_type": "code",
   "execution_count": 17,
   "metadata": {},
   "outputs": [
    {
     "name": "stdout",
     "output_type": "stream",
     "text": [
      "Perimeter of rectangle is:  10\n"
     ]
    }
   ],
   "source": [
    "class rectangle:\n",
    "    def __init__(self,length,breadth):\n",
    "        self.length=length\n",
    "        self.breadth=breadth\n",
    "    def Perimeter(self):\n",
    "        p=2*(self.length+self.breadth)       \n",
    "        print(\"Perimeter of rectangle is: \", p)\n",
    "rect=rectangle(2,3)\n",
    "rect.Perimeter()"
   ]
  },
  {
   "cell_type": "markdown",
   "metadata": {},
   "source": [
    "### 4.  Write a Python program to create a class Circle  that takes the parameter radius. The class should also contain two methods for computing its area & perimeter respectively."
   ]
  },
  {
   "cell_type": "code",
   "execution_count": 26,
   "metadata": {},
   "outputs": [
    {
     "name": "stdout",
     "output_type": "stream",
     "text": [
      "Perimeter is:  25.12\n",
      "Area is: 50.24\n"
     ]
    }
   ],
   "source": [
    "pi=3.14\n",
    "class circle:\n",
    "    def __init__(self,radius):\n",
    "        self.radius=radius\n",
    "    def perimeter(self):\n",
    "        p=2*pi*self.radius\n",
    "        print(\"Perimeter is: \", p)\n",
    "    def area(self):\n",
    "        a=pi*(self.radius)*self.radius\n",
    "        print(\"Area is:\", a)\n",
    "c=circle(4)\n",
    "c.perimeter()\n",
    "c.area()"
   ]
  },
  {
   "cell_type": "markdown",
   "metadata": {},
   "source": [
    "### 5. Write a Python program to demonstrate multiple Inheritance."
   ]
  },
  {
   "cell_type": "code",
   "execution_count": 29,
   "metadata": {},
   "outputs": [
    {
     "name": "stdout",
     "output_type": "stream",
     "text": [
      "Volume of room is:  24\n"
     ]
    }
   ],
   "source": [
    "class Room:\n",
    "    def __init__(self, l,b,h):\n",
    "        self.l=l\n",
    "        self.b=b\n",
    "        self.h=h\n",
    "class Volume_Room(Room):\n",
    "    def volume(self):\n",
    "        v=self.l*self.b*self.h\n",
    "        print(\"Volume of room is: \", v)\n",
    "r=Volume_Room(2,3,4)\n",
    "r.volume()"
   ]
  },
  {
   "cell_type": "code",
   "execution_count": null,
   "metadata": {},
   "outputs": [],
   "source": []
  }
 ],
 "metadata": {
  "kernelspec": {
   "display_name": "Python 3",
   "language": "python",
   "name": "python3"
  },
  "language_info": {
   "codemirror_mode": {
    "name": "ipython",
    "version": 3
   },
   "file_extension": ".py",
   "mimetype": "text/x-python",
   "name": "python",
   "nbconvert_exporter": "python",
   "pygments_lexer": "ipython3",
   "version": "3.7.6"
  }
 },
 "nbformat": 4,
 "nbformat_minor": 2
}
