{
 "cells": [
  {
   "cell_type": "markdown",
   "metadata": {},
   "source": [
    "### PT2\n"
   ]
  },
  {
   "cell_type": "markdown",
   "metadata": {},
   "source": [
    "### VIVA QUESTIONS"
   ]
  },
  {
   "cell_type": "markdown",
   "metadata": {},
   "source": [
    "1. What is the difference between both the codes and what will be the output from the following\n",
    "   codes if applied to a list of numbers\n",
    "\n",
    "\n"
   ]
  },
  {
   "cell_type": "code",
   "execution_count": 4,
   "metadata": {},
   "outputs": [
    {
     "name": "stdout",
     "output_type": "stream",
     "text": [
      "0\n",
      "1\n",
      "2\n",
      "3\n"
     ]
    }
   ],
   "source": [
    "#a) For I in range (0,4): print I\n",
    "list = [1,2,3,4]\n",
    "for I in range(0,4):\n",
    "    print(I)"
   ]
  },
  {
   "cell_type": "code",
   "execution_count": 3,
   "metadata": {},
   "outputs": [
    {
     "name": "stdout",
     "output_type": "stream",
     "text": [
      "1\n",
      "2\n",
      "3\n",
      "4\n"
     ]
    }
   ],
   "source": [
    "#b) For I in list: print I\n",
    "for i in list:\n",
    "    print(i)"
   ]
  },
  {
   "cell_type": "markdown",
   "metadata": {},
   "source": [
    "ans) Therefore, (a) will print numbers from 0 to 3 according to range as numbers while (b) will give output as elements present in the list of numbers defined above"
   ]
  },
  {
   "cell_type": "markdown",
   "metadata": {},
   "source": [
    "2.\tWhat is the output for the following\n",
    "word=’abcdefghij’\n",
    "word[:3]+word[3:]\n"
   ]
  },
  {
   "cell_type": "code",
   "execution_count": 6,
   "metadata": {},
   "outputs": [
    {
     "data": {
      "text/plain": [
       "'abcdefghij'"
      ]
     },
     "execution_count": 6,
     "metadata": {},
     "output_type": "execute_result"
    }
   ],
   "source": [
    "word ='abcdefghij'\n",
    "word[:3]+word[3:]\n"
   ]
  },
  {
   "cell_type": "markdown",
   "metadata": {},
   "source": [
    "3.\tHow do you convert a list (containing words) to string "
   ]
  },
  {
   "cell_type": "code",
   "execution_count": 7,
   "metadata": {},
   "outputs": [
    {
     "data": {
      "text/plain": [
       "'hello world'"
      ]
     },
     "execution_count": 7,
     "metadata": {},
     "output_type": "execute_result"
    }
   ],
   "source": [
    "list1 = ['hello','world']\n",
    "listToStr = ' '.join(map(str, list1))\n",
    "listToStr"
   ]
  },
  {
   "cell_type": "markdown",
   "metadata": {},
   "source": [
    "### PROGRAMMING QUESTIONS"
   ]
  },
  {
   "cell_type": "markdown",
   "metadata": {},
   "source": [
    "Q1.a) Input a list of 10 numbers from user. Identify prime, even, odd, positive, negative numbers and 0’s in the list. Store these  number in individual list and print all the list even if a list is empty."
   ]
  },
  {
   "cell_type": "code",
   "execution_count": 21,
   "metadata": {},
   "outputs": [
    {
     "name": "stdout",
     "output_type": "stream",
     "text": [
      "1\n",
      "2\n",
      "3\n",
      "4\n",
      "5\n",
      "6\n",
      "7\n",
      "8\n",
      "9\n",
      "0\n",
      "[1, 2, 3, 4, 5, 6, 7, 8, 9, 0]\n",
      "primes are : [1, 2, 3, 5, 7, 0]\n",
      "even: [2, 4, 6, 8, 0]\n",
      "odd: [1, 3, 5, 7, 9]\n",
      "positive: [1, 2, 3, 4, 5, 6, 7, 8, 9]\n",
      "negative: []\n",
      "zeroes: [0]\n"
     ]
    }
   ],
   "source": [
    "list1 = [] \n",
    "for i in range(0, 10): \n",
    "    ele = int(input()) \n",
    "  \n",
    "    list1.append(ele) \n",
    "      \n",
    "print(list1) \n",
    "\n",
    "prime=[]\n",
    "even=[]\n",
    "odd=[]\n",
    "positive=[]\n",
    "negative=[]\n",
    "zero=[]\n",
    "\n",
    "for i in list1:\n",
    "    isprime = True\n",
    "    for num in range(2,i):\n",
    "        if i % num == 0:\n",
    "            isprime = False\n",
    "            \n",
    "    if  isprime:\n",
    "        prime.append(i)\n",
    "    \n",
    "    if(i%2==0):\n",
    "        even.append(i)\n",
    "    else:\n",
    "        odd.append(i)\n",
    "    if(i>0):\n",
    "        positive.append(i)\n",
    "    elif(i==0):\n",
    "        zero.append(i)\n",
    "    else:\n",
    "        negative.append(i)\n",
    "        \n",
    "print(\"primes are :\",prime)\n",
    "print(\"even:\",even)\n",
    "print(\"odd:\",odd)\n",
    "print(\"positive:\",positive)\n",
    "print(\"negative:\",negative)\n",
    "print(\"zeroes:\",zero)\n"
   ]
  },
  {
   "cell_type": "markdown",
   "metadata": {},
   "source": [
    "b) Merge all the list in the following order: zero’s, positive num, even num’s, negative num’s, odd num’s and prime num’s"
   ]
  },
  {
   "cell_type": "code",
   "execution_count": 23,
   "metadata": {},
   "outputs": [
    {
     "data": {
      "text/plain": [
       "[0, 1, 2, 3, 4, 5, 6, 7, 8, 9, 2, 4, 6, 8, 0, 1, 3, 5, 7, 9, 1, 2, 3, 5, 7, 0]"
      ]
     },
     "execution_count": 23,
     "metadata": {},
     "output_type": "execute_result"
    }
   ],
   "source": [
    "final_list=zero+positive+even+negative+odd+prime\n",
    "final_list"
   ]
  },
  {
   "cell_type": "markdown",
   "metadata": {},
   "source": [
    "c) Sort the list in ascending order using bubble sort and print it by making a sort function."
   ]
  },
  {
   "cell_type": "code",
   "execution_count": 24,
   "metadata": {},
   "outputs": [
    {
     "name": "stdout",
     "output_type": "stream",
     "text": [
      "[0, 0, 0, 1, 1, 1, 2, 2, 2, 3, 3, 3, 4, 4, 5, 5, 5, 6, 6, 7, 7, 7, 8, 8, 9, 9]\n"
     ]
    }
   ],
   "source": [
    "def bubbleSort(arr):\n",
    "    n = len(arr)\n",
    "         # Traverse through all array elements\n",
    "    for i in range(n):\n",
    "            # Last i elements are already in place\n",
    "        for j in range(0, n-i-1):\n",
    "    \n",
    "            # traverse the array from 0 to n-i-1\n",
    "            # Swap if the element found is greater\n",
    "            # than the next element\\n\",\n",
    "            if arr[j] > arr[j+1] :\n",
    "                arr[j], arr[j+1] = arr[j+1], arr[j]\n",
    "bubbleSort(final_list)\n",
    "print(final_list)\n",
    "        "
   ]
  },
  {
   "cell_type": "code",
   "execution_count": null,
   "metadata": {},
   "outputs": [],
   "source": []
  }
 ],
 "metadata": {
  "kernelspec": {
   "display_name": "Python 3",
   "language": "python",
   "name": "python3"
  },
  "language_info": {
   "codemirror_mode": {
    "name": "ipython",
    "version": 3
   },
   "file_extension": ".py",
   "mimetype": "text/x-python",
   "name": "python",
   "nbconvert_exporter": "python",
   "pygments_lexer": "ipython3",
   "version": "3.7.6"
  }
 },
 "nbformat": 4,
 "nbformat_minor": 4
}
